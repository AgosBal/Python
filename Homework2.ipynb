{
 "cells": [
  {
   "cell_type": "markdown",
   "metadata": {},
   "source": [
    "# Práctica Clase 2"
   ]
  },
  {
   "cell_type": "markdown",
   "metadata": {},
   "source": [
    "1) Abrir el archivo \"Emisiones_CO2.csv\" y cargar sus datos en un diccionario."
   ]
  },
  {
   "cell_type": "code",
   "execution_count": 133,
   "metadata": {},
   "outputs": [
    {
     "data": {
      "text/plain": [
       "'Código de país|Nombre del país|Región|Año|CO2 (kt)|CO2 per cápita (toneladas métricas)\\n'"
      ]
     },
     "execution_count": 133,
     "metadata": {},
     "output_type": "execute_result"
    }
   ],
   "source": [
    "import os #mdulo integrado de python proporciona una interfaz que permite manipular archivos o directorios. \n",
    "archivo = open('Emisiones_CO2.csv', 'r', encoding='latin-1')  #'r' es de read, para leer el archivo\n",
    "                                                               # encoding='latin-1' es la forma en que está escrito el archivo, UTF8 es el que viene por default. \n",
    "next (archivo)                                                               \n"
   ]
  },
  {
   "cell_type": "code",
   "execution_count": 20,
   "metadata": {},
   "outputs": [],
   "source": [
    "dicc_emisiones = {  'cod_pais' : [],\n",
    "                    'nom_pais' : [],\n",
    "                    'region' : [],\n",
    "                    'anio' : [],\n",
    "                    'co2' : [],\n",
    "                    'co2_percapita' : []}"
   ]
  },
  {
   "cell_type": "code",
   "execution_count": 102,
   "metadata": {},
   "outputs": [],
   "source": [
    "for linea in archivo:\n",
    "    #print (repr(linea)) #imprime el texto literal\n",
    "    #print (repr(linea.strip ())) #strip borra los espacios blancos dentrás y adelante\n",
    "    linea = linea.strip ()\n",
    "    lista = linea.split ('|')\n",
    "    dicc_emisiones ['cod_pais'].append (lista[0])\n",
    "    dicc_emisiones ['nom_pais'].append (lista[1])\n",
    "    dicc_emisiones ['region'].append (lista[2])\n",
    "    dicc_emisiones ['anio'].append (lista[3])\n",
    "    dicc_emisiones ['co2'].append (lista[4])\n",
    "    dicc_emisiones ['co2_percapita'].append (lista[5])"
   ]
  },
  {
   "cell_type": "code",
   "execution_count": 137,
   "metadata": {},
   "outputs": [
    {
     "data": {
      "text/plain": [
       "5563"
      ]
     },
     "execution_count": 137,
     "metadata": {},
     "output_type": "execute_result"
    }
   ],
   "source": [
    "len (dicc_emisiones['anio'])"
   ]
  },
  {
   "cell_type": "code",
   "execution_count": 138,
   "metadata": {},
   "outputs": [],
   "source": [
    "archivo.close()"
   ]
  },
  {
   "attachments": {},
   "cell_type": "markdown",
   "metadata": {},
   "source": [
    "OTRA FORMA"
   ]
  },
  {
   "cell_type": "code",
   "execution_count": 101,
   "metadata": {},
   "outputs": [
    {
     "data": {
      "text/plain": [
       "'Código de país|Nombre del país|Región|Año|CO2 (kt)|CO2 per cápita (toneladas métricas)\\n'"
      ]
     },
     "execution_count": 101,
     "metadata": {},
     "output_type": "execute_result"
    }
   ],
   "source": [
    "import os\n",
    "archivo = open('Emisiones_CO2.csv', 'r', encoding='latin-1')\n",
    "\n",
    "next (archivo)"
   ]
  },
  {
   "cell_type": "code",
   "execution_count": 103,
   "metadata": {},
   "outputs": [],
   "source": [
    "encabezado = True #Para cuándo iteremos sobre el archivo arranquemos sobre el encabezado. Python no entiende que es un encabezado\n",
    "\n",
    "for linea in archivo:\n",
    "    if encabezado == False:\n",
    "        campos = linea.split (sep='|')  #cada linea la divide con el separador que indiquemos, en este caso con el simbolo |, cosa de que en campos queden los valores separados\n",
    "        dicc_emisiones ['cod_pais'].append (campos [0])   #en campo sub 0 queda almacenado el código país\n",
    "        dicc_emisiones ['nom_pais'].append (campos [1])\n",
    "        dicc_emisiones ['region'].append (campos [2])\n",
    "        dicc_emisiones ['anio'].append (campos [3])\n",
    "        dicc_emisiones ['co2'].append (campos [4])\n",
    "        dicc_emisiones ['co2_percapita'].append (campos [5])\n",
    "    \n",
    "    else:\n",
    "        encabezado = False"
   ]
  },
  {
   "cell_type": "code",
   "execution_count": 104,
   "metadata": {},
   "outputs": [
    {
     "name": "stdout",
     "output_type": "stream",
     "text": [
      "ABW\n",
      "Aruba\n",
      "América Latina y Caribe\n",
      "1962\n",
      "None\n",
      "\n",
      "\n"
     ]
    }
   ],
   "source": [
    "item = 1\n",
    "\n",
    "print (dicc_emisiones ['cod_pais'][item])\n",
    "print (dicc_emisiones ['nom_pais'][item])\n",
    "print (dicc_emisiones ['region'][item])\n",
    "print (dicc_emisiones ['anio'][item])\n",
    "print (dicc_emisiones ['co2'][item])\n",
    "print (dicc_emisiones ['co2_percapita'][item])"
   ]
  },
  {
   "cell_type": "code",
   "execution_count": 105,
   "metadata": {},
   "outputs": [
    {
     "data": {
      "text/plain": [
       "22253"
      ]
     },
     "execution_count": 105,
     "metadata": {},
     "output_type": "execute_result"
    }
   ],
   "source": [
    "len (dicc_emisiones['co2_percapita'])"
   ]
  },
  {
   "cell_type": "code",
   "execution_count": 106,
   "metadata": {},
   "outputs": [],
   "source": [
    "archivo.close ()"
   ]
  },
  {
   "cell_type": "markdown",
   "metadata": {},
   "source": [
    "2) a) ¿Cuántas variables hay? <br>\n",
    "b) ¿Qué tipos de datos usar para cada una? <br>\n",
    "c) ¿Qué tipo de variables son? <br>\n",
    "d) ¿Hay valores faltantes? <br>\n",
    "e) ¿Cuál es el total de emisiones de CO2 para 'América Latina y Caribe' en el año 2010?"
   ]
  },
  {
   "cell_type": "code",
   "execution_count": 107,
   "metadata": {},
   "outputs": [
    {
     "name": "stdout",
     "output_type": "stream",
     "text": [
      "Hay 6 variables\n",
      "Hay 6 variables\n",
      "Hay 6 variables\n"
     ]
    }
   ],
   "source": [
    "#2.a) ¿Cuántas  variables hay?\n",
    "\n",
    "len(dicc_emisiones.keys())\n",
    "print (\"Hay {} variables\".format (len(dicc_emisiones.keys())))  #format pasa un argumento y asigna a los corchetes los valores que asignamos ahí\n",
    "\n",
    "#Otra forma de imprimir\n",
    "print (f\"Hay {len(dicc_emisiones.keys())} variables\")\n",
    "\n",
    "#Otra forma\n",
    "\n",
    "print (\"Hay\", len (dicc_emisiones.keys()), \"variables\")"
   ]
  },
  {
   "attachments": {},
   "cell_type": "markdown",
   "metadata": {},
   "source": [
    "#2.b) ¿Qué tipos de datos usar para cada una?\n",
    "\"cod_pais\" --> str\n",
    "\"nom_pais\" --> str\n",
    "\"region\" --> str\n",
    "\"anio\" --> int\n",
    "\"co2\" --> float\n",
    "\"co2_percapita\" --> float"
   ]
  },
  {
   "attachments": {},
   "cell_type": "markdown",
   "metadata": {},
   "source": [
    "Normalización de los datos porque son todos str"
   ]
  },
  {
   "cell_type": "code",
   "execution_count": 124,
   "metadata": {},
   "outputs": [],
   "source": [
    "import re       #Esta línea importa el módulo de expresiones regulares de Python. El módulo re proporciona operaciones de coincidencia de patrones similares a las que se encuentran en Perl.\n",
    "\n",
    "def Normalizacion(lista):     #Esta línea define una función llamada Normalizacion que toma una lista como argumento.\n",
    "    \"\"\"\n",
    "    Esta función toma una lista de números representados como cadenas y los normaliza, eliminando los puntos de los números y\n",
    "    reemplazando las comas por puntos. La lista de salida contiene los números normalizados como flotantes.\n",
    "    \"\"\"\n",
    "\n",
    "    lista_normalizada = []  # Crea una lista vacía para almacenar los números normalizados\n",
    "    \n",
    "    for elemento in lista:   # Recorre cada elemento de la lista original\n",
    "        if not elemento:     # Si el elemento es una cadena vacía, agrega un valor nulo a la lista normalizada\n",
    "            lista_normalizada.append(None)\n",
    "        else:                # Si el elemento no es una cadena vacía, realiza la normalización\n",
    "            elemento_n = re.sub(r'\\.', '', elemento)   #primero eliminará todos los puntos de la cadena usando la función sub() del módulo re de Python\n",
    "            elemento_n = elemento_n.replace(',', '.')   #reemplazará cualquier coma por un punto usando el método replace()\n",
    "            lista_normalizada.append(float(elemento_n))  #agregará el valor flotante correspondiente a la lista normalizada.\n",
    "    \n",
    "    return lista_normalizada   #devuelve la lista de valores normalizados."
   ]
  },
  {
   "cell_type": "code",
   "execution_count": 125,
   "metadata": {},
   "outputs": [
    {
     "ename": "TypeError",
     "evalue": "expected string or bytes-like object",
     "output_type": "error",
     "traceback": [
      "\u001b[1;31m---------------------------------------------------------------------------\u001b[0m",
      "\u001b[1;31mTypeError\u001b[0m                                 Traceback (most recent call last)",
      "Cell \u001b[1;32mIn[125], line 1\u001b[0m\n\u001b[1;32m----> 1\u001b[0m dicc_emisiones [\u001b[39m\"\u001b[39m\u001b[39mco2\u001b[39m\u001b[39m\"\u001b[39m] \u001b[39m=\u001b[39m Normalizacion (dicc_emisiones[\u001b[39m\"\u001b[39;49m\u001b[39mco2\u001b[39;49m\u001b[39m\"\u001b[39;49m])\n",
      "Cell \u001b[1;32mIn[124], line 15\u001b[0m, in \u001b[0;36mNormalizacion\u001b[1;34m(lista)\u001b[0m\n\u001b[0;32m     13\u001b[0m     lista_normalizada\u001b[39m.\u001b[39mappend(\u001b[39mNone\u001b[39;00m)\n\u001b[0;32m     14\u001b[0m \u001b[39melse\u001b[39;00m:                \u001b[39m# Si el elemento no es una cadena vacía, realiza la normalización\u001b[39;00m\n\u001b[1;32m---> 15\u001b[0m     elemento_n \u001b[39m=\u001b[39m re\u001b[39m.\u001b[39;49msub(\u001b[39mr\u001b[39;49m\u001b[39m'\u001b[39;49m\u001b[39m\\\u001b[39;49m\u001b[39m.\u001b[39;49m\u001b[39m'\u001b[39;49m, \u001b[39m'\u001b[39;49m\u001b[39m'\u001b[39;49m, elemento)   \u001b[39m#primero eliminará todos los puntos de la cadena usando la función sub() del módulo re de Python\u001b[39;00m\n\u001b[0;32m     16\u001b[0m     elemento_n \u001b[39m=\u001b[39m elemento_n\u001b[39m.\u001b[39mreplace(\u001b[39m'\u001b[39m\u001b[39m,\u001b[39m\u001b[39m'\u001b[39m, \u001b[39m'\u001b[39m\u001b[39m.\u001b[39m\u001b[39m'\u001b[39m)   \u001b[39m#reemplazará cualquier coma por un punto usando el método replace()\u001b[39;00m\n\u001b[0;32m     17\u001b[0m     lista_normalizada\u001b[39m.\u001b[39mappend(\u001b[39mfloat\u001b[39m(elemento_n))  \u001b[39m#agregará el valor flotante correspondiente a la lista normalizada.\u001b[39;00m\n",
      "File \u001b[1;32mc:\\Users\\Usuario\\AppData\\Local\\Programs\\Python\\Python310\\lib\\re.py:209\u001b[0m, in \u001b[0;36msub\u001b[1;34m(pattern, repl, string, count, flags)\u001b[0m\n\u001b[0;32m    202\u001b[0m \u001b[39mdef\u001b[39;00m \u001b[39msub\u001b[39m(pattern, repl, string, count\u001b[39m=\u001b[39m\u001b[39m0\u001b[39m, flags\u001b[39m=\u001b[39m\u001b[39m0\u001b[39m):\n\u001b[0;32m    203\u001b[0m \u001b[39m    \u001b[39m\u001b[39m\"\"\"Return the string obtained by replacing the leftmost\u001b[39;00m\n\u001b[0;32m    204\u001b[0m \u001b[39m    non-overlapping occurrences of the pattern in string by the\u001b[39;00m\n\u001b[0;32m    205\u001b[0m \u001b[39m    replacement repl.  repl can be either a string or a callable;\u001b[39;00m\n\u001b[0;32m    206\u001b[0m \u001b[39m    if a string, backslash escapes in it are processed.  If it is\u001b[39;00m\n\u001b[0;32m    207\u001b[0m \u001b[39m    a callable, it's passed the Match object and must return\u001b[39;00m\n\u001b[0;32m    208\u001b[0m \u001b[39m    a replacement string to be used.\"\"\"\u001b[39;00m\n\u001b[1;32m--> 209\u001b[0m     \u001b[39mreturn\u001b[39;00m _compile(pattern, flags)\u001b[39m.\u001b[39;49msub(repl, string, count)\n",
      "\u001b[1;31mTypeError\u001b[0m: expected string or bytes-like object"
     ]
    }
   ],
   "source": [
    "dicc_emisiones [\"co2\"] = Normalizacion (dicc_emisiones[\"co2\"])"
   ]
  },
  {
   "cell_type": "code",
   "execution_count": null,
   "metadata": {},
   "outputs": [],
   "source": [
    "dicc_emisiones [\"co2_percapita\"] = Normalizacion (dicc_emisiones[\"co2_percapita\"])"
   ]
  },
  {
   "cell_type": "code",
   "execution_count": 116,
   "metadata": {},
   "outputs": [
    {
     "data": {
      "text/plain": [
       "4701.09"
      ]
     },
     "execution_count": 116,
     "metadata": {},
     "output_type": "execute_result"
    }
   ],
   "source": [
    "dicc_emisiones[\"co2\"][180]"
   ]
  },
  {
   "cell_type": "code",
   "execution_count": 117,
   "metadata": {},
   "outputs": [
    {
     "data": {
      "text/plain": [
       "'0,482400531\\n'"
      ]
     },
     "execution_count": 117,
     "metadata": {},
     "output_type": "execute_result"
    }
   ],
   "source": [
    "dicc_emisiones[\"co2_percapita\"][180]"
   ]
  },
  {
   "cell_type": "code",
   "execution_count": 119,
   "metadata": {},
   "outputs": [],
   "source": [
    "for indice, valor in enumerate (dicc_emisiones['anio']):\n",
    "    dicc_emisiones['anio'][indice] = int (valor)"
   ]
  },
  {
   "cell_type": "code",
   "execution_count": 121,
   "metadata": {},
   "outputs": [
    {
     "data": {
      "text/plain": [
       "int"
      ]
     },
     "execution_count": 121,
     "metadata": {},
     "output_type": "execute_result"
    }
   ],
   "source": [
    "type(dicc_emisiones['anio'][180])"
   ]
  },
  {
   "cell_type": "code",
   "execution_count": 53,
   "metadata": {},
   "outputs": [],
   "source": [
    "#Armo una función a la que le paso cada elemento del diccionario\n",
    "\n",
    "def normalizacion (lista):\n",
    "    for indice, elemento in enumerate(lista):\n",
    "        if elemento:\n",
    "            elementon = elemento.replace (\".\",\"\")\n",
    "            elementon = elemento.replace (\",\",\".\")\n",
    "            elementon = float (elementon)\n",
    "\n",
    "            \n",
    "        else:                                                               #si no existe el elemento, está vacío\n",
    "            elemento = None                                                 #En gral al tener valores que faltan se completan con None. \n",
    "        \n",
    "        lista [indice] = elemento                                     #en la lista, en el lugar del índice reemplazo el elemento. \n",
    "        \n",
    "        return lista"
   ]
  },
  {
   "cell_type": "code",
   "execution_count": 123,
   "metadata": {},
   "outputs": [
    {
     "ename": "SyntaxError",
     "evalue": "incomplete input (1097473764.py, line 6)",
     "output_type": "error",
     "traceback": [
      "\u001b[1;36m  Cell \u001b[1;32mIn[123], line 6\u001b[1;36m\u001b[0m\n\u001b[1;33m    if (dicc_emisiones ['region'][indice] == filtro_region) and (dicc_emisiones ['anio'][indice] == filtro_anio) and (dicc_emisiones ['co2'[indice]] != None):\u001b[0m\n\u001b[1;37m                                                                                                                                                              ^\u001b[0m\n\u001b[1;31mSyntaxError\u001b[0m\u001b[1;31m:\u001b[0m incomplete input\n"
     ]
    }
   ],
   "source": [
    "filtro_region = 'America Latina y Caribe'\n",
    "filtro_anio = \"2010\"\n",
    "emisiones = 0\n",
    "\n",
    "for indice, elemento in enumerate (dicc_emisiones ['region']):\n",
    "    if (dicc_emisiones ['region'][indice] == filtro_region) and (dicc_emisiones ['anio'][indice] == filtro_anio) and (dicc_emisiones ['co2'[indice]] != None):"
   ]
  },
  {
   "cell_type": "code",
   "execution_count": 70,
   "metadata": {},
   "outputs": [
    {
     "name": "stdout",
     "output_type": "stream",
     "text": [
      "cod_pais : AND\n",
      "nom_pais : Andorra\n",
      "region : Europa y Asia Central\n",
      "anio : 1967\n",
      "co2 : \n",
      "co2_percapita : \n"
     ]
    }
   ],
   "source": [
    "# 2.c) Qué tipos de variables son?\n",
    "claves = dicc_emisiones.keys()\n",
    "for clave in claves:\n",
    "    print (clave, \":\", dicc_emisiones[clave][30])"
   ]
  },
  {
   "attachments": {},
   "cell_type": "markdown",
   "metadata": {},
   "source": [
    "cod_pais : AND --> Cualitativo Categórico\n",
    "nom_pais : Andorra  --> Cualitativo Categórico\n",
    "region : Europa y Asia Central --> Cualitativo Categórico\n",
    "anio : 1967 --> Cuantitativo Ordinal\n",
    "co2 : --> Cuantitativo Continuo\n",
    "co2_percapita : --> Cuantitativo Continuo"
   ]
  },
  {
   "cell_type": "code",
   "execution_count": 81,
   "metadata": {},
   "outputs": [
    {
     "name": "stdout",
     "output_type": "stream",
     "text": [
      "No hay frase\n"
     ]
    }
   ],
   "source": [
    "#d)¿Hay valores faltantes?\n",
    "\n",
    "frase = \"\"\n",
    "if frase:\n",
    "    print (\"Hay frase\")\n",
    "else:\n",
    "    print (\"No hay frase\")"
   ]
  },
  {
   "cell_type": "code",
   "execution_count": 86,
   "metadata": {},
   "outputs": [],
   "source": [
    "faltantes = []\n",
    "for key in dicc_emisiones:\n",
    "    for valor in dicc_emisiones[key]:\n",
    "        if not valor:\n",
    "            #print (\"Falta un elemento en {}\".format (key))\n",
    "            faltantes.append (key)"
   ]
  },
  {
   "cell_type": "code",
   "execution_count": 87,
   "metadata": {},
   "outputs": [
    {
     "data": {
      "text/plain": [
       "{'co2', 'co2_percapita'}"
      ]
     },
     "execution_count": 87,
     "metadata": {},
     "output_type": "execute_result"
    }
   ],
   "source": [
    "set (faltantes)"
   ]
  },
  {
   "cell_type": "code",
   "execution_count": 123,
   "metadata": {},
   "outputs": [
    {
     "ename": "TypeError",
     "evalue": "unsupported operand type(s) for +=: 'float' and 'str'",
     "output_type": "error",
     "traceback": [
      "\u001b[1;31m---------------------------------------------------------------------------\u001b[0m",
      "\u001b[1;31mTypeError\u001b[0m                                 Traceback (most recent call last)",
      "Cell \u001b[1;32mIn[123], line 11\u001b[0m\n\u001b[0;32m      9\u001b[0m \u001b[39mif\u001b[39;00m dicc_emisiones[\u001b[39m'\u001b[39m\u001b[39mregion\u001b[39m\u001b[39m'\u001b[39m] [i] \u001b[39m==\u001b[39m region \u001b[39mand\u001b[39;00m dicc_emisiones[\u001b[39m'\u001b[39m\u001b[39manio\u001b[39m\u001b[39m'\u001b[39m][i] \u001b[39m==\u001b[39m anio:\n\u001b[0;32m     10\u001b[0m     \u001b[39mif\u001b[39;00m dicc_emisiones[\u001b[39m'\u001b[39m\u001b[39mco2\u001b[39m\u001b[39m'\u001b[39m][i]:                   \u001b[39m#Tiene que ser distinto de None, porque no podemos sumar a un int un None\u001b[39;00m\n\u001b[1;32m---> 11\u001b[0m         emisiones \u001b[39m+\u001b[39m\u001b[39m=\u001b[39m dicc_emisiones[\u001b[39m'\u001b[39m\u001b[39mco2\u001b[39m\u001b[39m'\u001b[39m][i]\n",
      "\u001b[1;31mTypeError\u001b[0m: unsupported operand type(s) for +=: 'float' and 'str'"
     ]
    }
   ],
   "source": [
    "#e) ¿Cuál es el total de emisiones de CO2 para 'América Latina y Caribe' en el año 2010?\n",
    "\n",
    "\n",
    "anio = 2010\n",
    "region = 'América Latina y Caribe'\n",
    "emisiones = 0\n",
    "\n",
    "for i in range (len (dicc_emisiones['region'])):\n",
    "    if dicc_emisiones['region'] [i] == region and dicc_emisiones['anio'][i] == anio:\n",
    "        if dicc_emisiones['co2'][i]:                   #Tiene que ser distinto de None, porque no podemos sumar a un int un None\n",
    "            emisiones += dicc_emisiones['co2'][i]\n",
    "\n",
    "            "
   ]
  }
 ],
 "metadata": {
  "interpreter": {
   "hash": "c85384e4cb51c8b72350f3a8712cc8351fdc3955e32a27f9b60c6242ab125f01"
  },
  "kernelspec": {
   "display_name": "Python 3.9.7 ('henry')",
   "language": "python",
   "name": "python3"
  },
  "language_info": {
   "codemirror_mode": {
    "name": "ipython",
    "version": 3
   },
   "file_extension": ".py",
   "mimetype": "text/x-python",
   "name": "python",
   "nbconvert_exporter": "python",
   "pygments_lexer": "ipython3",
   "version": "3.10.9"
  },
  "orig_nbformat": 4
 },
 "nbformat": 4,
 "nbformat_minor": 2
}
