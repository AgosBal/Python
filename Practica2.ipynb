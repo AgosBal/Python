{
 "cells": [
  {
   "cell_type": "markdown",
   "metadata": {},
   "source": [
    "# Práctica 2"
   ]
  },
  {
   "cell_type": "markdown",
   "metadata": {},
   "source": [
    "1) Abrir el archivo \"Emisiones_CO2.csv\" y cargar sus datos en un diccionario."
   ]
  },
  {
   "cell_type": "code",
   "execution_count": 1,
   "metadata": {},
   "outputs": [
    {
     "data": {
      "text/plain": [
       "'Código de país|Nombre del país|Región|Año|CO2 (kt)|CO2 per cápita (toneladas métricas)\\n'"
      ]
     },
     "execution_count": 1,
     "metadata": {},
     "output_type": "execute_result"
    }
   ],
   "source": [
    "import os #modulo integrado de python, proporciona una interfaz que permite manipular archivos o directorios. \n",
    "archivo = open('Emisiones_CO2.csv', 'r', encoding='latin-1')  #'r' es de read, para leer el archivo\n",
    "                                                               # encoding='latin-1' es la forma en que está escrito el archivo, UTF8 es el que viene por default. \n",
    "next (archivo) #Leer la próxima línea de un archivo                                                           \n"
   ]
  },
  {
   "cell_type": "code",
   "execution_count": 2,
   "metadata": {},
   "outputs": [],
   "source": [
    "dicc_emisiones = { \n",
    "                'cod_pais' : [],\n",
    "                'nom_pais' : [],\n",
    "                'region' : [],\n",
    "                'anio' : [],\n",
    "                'co2' : [],\n",
    "                'co2_percapita' : []\n",
    "                }"
   ]
  },
  {
   "cell_type": "code",
   "execution_count": 3,
   "metadata": {},
   "outputs": [],
   "source": [
    "for linea in archivo:\n",
    "    #print (repr(linea)) imprime el texto literal\n",
    "    #print (repr(linea.strip ())) strip borra los espacios blancos detrás y adelante\n",
    "    linea = linea.strip ()\n",
    "    lista = linea.split ('|')\n",
    "    dicc_emisiones ['cod_pais'].append (lista[0])\n",
    "    dicc_emisiones ['nom_pais'].append (lista[1])\n",
    "    dicc_emisiones ['region'].append (lista[2])\n",
    "    dicc_emisiones ['anio'].append (lista[3])\n",
    "    dicc_emisiones ['co2'].append (lista[4])\n",
    "    dicc_emisiones ['co2_percapita'].append (lista[5])"
   ]
  },
  {
   "cell_type": "code",
   "execution_count": 5,
   "metadata": {},
   "outputs": [
    {
     "data": {
      "text/plain": [
       "11127"
      ]
     },
     "execution_count": 5,
     "metadata": {},
     "output_type": "execute_result"
    }
   ],
   "source": [
    "len (dicc_emisiones['anio'])\n",
    "#Obtener la longitud (número de elementos) de la lista que se encuentra en el diccionario dicc_emisiones bajo la clave 'anio'."
   ]
  },
  {
   "cell_type": "code",
   "execution_count": 6,
   "metadata": {},
   "outputs": [],
   "source": [
    "archivo.close()\n",
    "#Cerrar un archivo previamente abierto en el código. Buena práctica cerrarlos una vez se ha terminado de trabajar. \n",
    "#Se liberan los recursos del sistema operativo asignados al archivo, para el uso eficiente de los recursos del sistema y evitar problemas con la manipulación del archivo."
   ]
  },
  {
   "attachments": {},
   "cell_type": "markdown",
   "metadata": {},
   "source": [
    "OTRA FORMA"
   ]
  },
  {
   "cell_type": "code",
   "execution_count": 7,
   "metadata": {},
   "outputs": [
    {
     "data": {
      "text/plain": [
       "'Código de país|Nombre del país|Región|Año|CO2 (kt)|CO2 per cápita (toneladas métricas)\\n'"
      ]
     },
     "execution_count": 7,
     "metadata": {},
     "output_type": "execute_result"
    }
   ],
   "source": [
    "import os\n",
    "archivo = open('Emisiones_CO2.csv', 'r', encoding='latin-1')\n",
    "\n",
    "next (archivo)"
   ]
  },
  {
   "cell_type": "code",
   "execution_count": 8,
   "metadata": {},
   "outputs": [],
   "source": [
    "encabezado = True #Para cuándo iteremos sobre el archivo arranquemos sobre el encabezado. Python no entiende que es un encabezado\n",
    "\n",
    "for linea in archivo:\n",
    "    if encabezado == False:\n",
    "        campos = linea.split (sep='|')  #cada linea la divide con el separador que indiquemos, en este caso con el simbolo |, para que en campos queden los valores separados\n",
    "        dicc_emisiones ['cod_pais'].append (campos [0])   #en campo sub 0 queda almacenado el código país\n",
    "        dicc_emisiones ['nom_pais'].append (campos [1])\n",
    "        dicc_emisiones ['region'].append (campos [2])\n",
    "        dicc_emisiones ['anio'].append (campos [3])\n",
    "        dicc_emisiones ['co2'].append (campos [4])\n",
    "        dicc_emisiones ['co2_percapita'].append (campos [5])\n",
    "    \n",
    "    else:\n",
    "        encabezado = False"
   ]
  },
  {
   "cell_type": "code",
   "execution_count": 9,
   "metadata": {},
   "outputs": [
    {
     "name": "stdout",
     "output_type": "stream",
     "text": [
      "ABW\n",
      "Aruba\n",
      "América Latina y Caribe\n",
      "1961\n",
      "\n",
      "\n"
     ]
    }
   ],
   "source": [
    "item = 1\n",
    "\n",
    "print (dicc_emisiones ['cod_pais'][item])\n",
    "print (dicc_emisiones ['nom_pais'][item])\n",
    "print (dicc_emisiones ['region'][item])\n",
    "print (dicc_emisiones ['anio'][item])\n",
    "print (dicc_emisiones ['co2'][item])\n",
    "print (dicc_emisiones ['co2_percapita'][item])"
   ]
  },
  {
   "cell_type": "code",
   "execution_count": 10,
   "metadata": {},
   "outputs": [
    {
     "data": {
      "text/plain": [
       "22253"
      ]
     },
     "execution_count": 10,
     "metadata": {},
     "output_type": "execute_result"
    }
   ],
   "source": [
    "len (dicc_emisiones['co2_percapita'])"
   ]
  },
  {
   "cell_type": "code",
   "execution_count": 11,
   "metadata": {},
   "outputs": [],
   "source": [
    "archivo.close ()"
   ]
  },
  {
   "cell_type": "markdown",
   "metadata": {},
   "source": [
    "2) a) ¿Cuántas variables hay? <br>\n",
    "b) ¿Qué tipos de datos usar para cada una? <br>\n",
    "c) ¿Qué tipo de variables son? <br>\n",
    "d) ¿Hay valores faltantes? <br>\n",
    "e) ¿Cuál es el total de emisiones de CO2 para 'América Latina y Caribe' en el año 2010?"
   ]
  },
  {
   "cell_type": "code",
   "execution_count": 12,
   "metadata": {},
   "outputs": [
    {
     "name": "stdout",
     "output_type": "stream",
     "text": [
      "Hay 6 variables\n",
      "Hay 6 variables\n",
      "Hay 6 variables\n"
     ]
    }
   ],
   "source": [
    "#2.a) ¿Cuántas  variables hay?\n",
    "\n",
    "len(dicc_emisiones.keys())\n",
    "print (\"Hay {} variables\".format (len(dicc_emisiones.keys())))  #format pasa un argumento y asigna a los corchetes los valores que asignamos ahí\n",
    "\n",
    "#Otra forma de imprimir\n",
    "print (f\"Hay {len(dicc_emisiones.keys())} variables\")\n",
    "\n",
    "#Otra forma\n",
    "print (\"Hay\", len (dicc_emisiones.keys()), \"variables\")"
   ]
  },
  {
   "attachments": {},
   "cell_type": "markdown",
   "metadata": {},
   "source": [
    "2.b) ¿Qué tipos de datos usar para cada una?\n",
    "\"cod_pais\" --> str,\n",
    "\"nom_pais\" --> str,\n",
    "\"region\" --> str,\n",
    "\"anio\" --> int,\n",
    "\"co2\" --> float,\n",
    "\"co2_percapita\" --> float"
   ]
  },
  {
   "attachments": {},
   "cell_type": "markdown",
   "metadata": {},
   "source": [
    "Normalización de los datos porque son todos str"
   ]
  },
  {
   "cell_type": "code",
   "execution_count": 13,
   "metadata": {},
   "outputs": [],
   "source": [
    "import re   #Importa el módulo de expresiones regulares de Python. El módulo re proporciona operaciones de coincidencia\n",
    "\n",
    "def Normalizacion(lista):   #Define una función llamada Normalizacion que toma una lista como argumento.\n",
    "    \"\"\"\n",
    "    Esta función toma una lista de números representados como cadenas y los normaliza, eliminando los puntos de los números y\n",
    "    reemplazando las comas por puntos. La lista de salida contiene los números normalizados como flotantes.\n",
    "    \"\"\"\n",
    "\n",
    "    lista_normalizada = []  #Lista vacía para almacenar los números normalizados\n",
    "    \n",
    "    for elemento in lista:   #Recorre cada elemento de la lista original\n",
    "        if not elemento:     #Si el elemento es una cadena vacía, agrega un valor nulo a la lista normalizada\n",
    "            lista_normalizada.append(None)\n",
    "        else:                #Si el elemento no es una cadena vacía, realiza la normalización, porque las operaciones de expresiones regulares y reemplazo de comas por puntos se realizan en cadenas\n",
    "            elemento = str(elemento) #Convierto el valor a una cadena antes de la normalización\n",
    "            elemento_n = re.sub(r'\\.', '', elemento)   #Reemplaza cualquier punto ('.') por una cadena vacía ('').\n",
    "            elemento_n = elemento_n.replace(',', '.')   #Reemplaza cualquier coma por un punto usando el método replace()\n",
    "            \n",
    "            try: #Bloque try para manejar posibles excepciones\n",
    "                valor_float = float (elemento_n)\n",
    "                lista_normalizada.append(valor_float)\n",
    "            \n",
    "            except ValueError: #Si se produce una excepción ValueError durante la conversión, significa que el valor no se puede convertir en un número de punto flotante.\n",
    "                lista_normalizada.append(None)\n",
    "                    \n",
    "    return lista_normalizada   #Devuelve la lista de valores normalizados."
   ]
  },
  {
   "cell_type": "code",
   "execution_count": 14,
   "metadata": {},
   "outputs": [],
   "source": [
    "dicc_emisiones [\"co2\"] = Normalizacion (dicc_emisiones[\"co2\"])"
   ]
  },
  {
   "cell_type": "code",
   "execution_count": 15,
   "metadata": {},
   "outputs": [],
   "source": [
    "dicc_emisiones [\"co2_percapita\"] = Normalizacion (dicc_emisiones[\"co2_percapita\"])"
   ]
  },
  {
   "cell_type": "code",
   "execution_count": 16,
   "metadata": {},
   "outputs": [
    {
     "data": {
      "text/plain": [
       "5009.12"
      ]
     },
     "execution_count": 16,
     "metadata": {},
     "output_type": "execute_result"
    }
   ],
   "source": [
    "dicc_emisiones[\"co2\"][180]"
   ]
  },
  {
   "cell_type": "code",
   "execution_count": 17,
   "metadata": {},
   "outputs": [
    {
     "data": {
      "text/plain": [
       "0.530351031"
      ]
     },
     "execution_count": 17,
     "metadata": {},
     "output_type": "execute_result"
    }
   ],
   "source": [
    "dicc_emisiones[\"co2_percapita\"][180]"
   ]
  },
  {
   "cell_type": "code",
   "execution_count": 18,
   "metadata": {},
   "outputs": [],
   "source": [
    "for indice, valor in enumerate (dicc_emisiones['anio']): #Recorrer una lista de valores almacenados bajo la clave 'anio'\n",
    "    dicc_emisiones['anio'][indice] = int (valor)  #Convierte el valor actual (cadena) en un entero. \n",
    "                                                  #Actualiza el elemento en dicc_emisiones['anio'] en la posición indice con el nuevo valor entero.\n",
    "                                                  #Reemplaza el valor original en la lista con su versión entera."
   ]
  },
  {
   "cell_type": "code",
   "execution_count": 19,
   "metadata": {},
   "outputs": [
    {
     "data": {
      "text/plain": [
       "int"
      ]
     },
     "execution_count": 19,
     "metadata": {},
     "output_type": "execute_result"
    }
   ],
   "source": [
    "type(dicc_emisiones['anio'][180])"
   ]
  },
  {
   "cell_type": "code",
   "execution_count": 20,
   "metadata": {},
   "outputs": [
    {
     "name": "stdout",
     "output_type": "stream",
     "text": [
      "cod_pais : ABW\n",
      "nom_pais : Aruba\n",
      "region : América Latina y Caribe\n",
      "anio : 1990\n",
      "co2 : 1840.83\n",
      "co2_percapita : 29.620164768\n"
     ]
    }
   ],
   "source": [
    "# 2.c) Qué tipos de variables son?\n",
    "claves = dicc_emisiones.keys()\n",
    "for clave in claves:\n",
    "    print (clave, \":\", dicc_emisiones[clave][30])"
   ]
  },
  {
   "attachments": {},
   "cell_type": "markdown",
   "metadata": {},
   "source": [
    "cod_pais : AND --> Cualitativo Categórico, \n",
    "nom_pais : Andorra  --> Cualitativo Categórico, \n",
    "region : Europa y Asia Central --> Cualitativo Categórico, \n",
    "anio : 1967 --> Cuantitativo Ordinal, \n",
    "co2 : --> Cuantitativo Continuo, \n",
    "co2_percapita : --> Cuantitativo Continuo"
   ]
  },
  {
   "cell_type": "code",
   "execution_count": 81,
   "metadata": {},
   "outputs": [
    {
     "name": "stdout",
     "output_type": "stream",
     "text": [
      "No hay frase\n"
     ]
    }
   ],
   "source": [
    "#d)¿Hay valores faltantes?\n",
    "\n",
    "frase = \"\"\n",
    "if frase:\n",
    "    print (\"Hay frase\")\n",
    "else:\n",
    "    print (\"No hay frase\")"
   ]
  },
  {
   "cell_type": "code",
   "execution_count": 21,
   "metadata": {},
   "outputs": [],
   "source": [
    "faltantes = [] #Crea una lista vacía\n",
    "for key in dicc_emisiones: #Itera las claves del diccionario\n",
    "    for valor in dicc_emisiones[key]: #Itera los valores de cada clave del diccionario\n",
    "        if not valor:\n",
    "            #print (\"Falta un elemento en {}\".format (key))\n",
    "            faltantes.append (key)"
   ]
  },
  {
   "cell_type": "code",
   "execution_count": 22,
   "metadata": {},
   "outputs": [
    {
     "data": {
      "text/plain": [
       "{'co2', 'co2_percapita'}"
      ]
     },
     "execution_count": 22,
     "metadata": {},
     "output_type": "execute_result"
    }
   ],
   "source": [
    "set (faltantes) #Cuando se aplica set() a una lista, se eliminan los elementos duplicados y se obtiene un conjunto con elementos únicos."
   ]
  },
  {
   "cell_type": "code",
   "execution_count": 23,
   "metadata": {},
   "outputs": [
    {
     "name": "stdout",
     "output_type": "stream",
     "text": [
      "Total de emisiones de CO2 para América Latina y Caribe en el año 2010: 3383269.6019999995\n"
     ]
    }
   ],
   "source": [
    "#e) ¿Cuál es el total de emisiones de CO2 para 'América Latina y Caribe' en el año 2010?\n",
    "\n",
    "anio = 2010\n",
    "region = 'América Latina y Caribe'\n",
    "emisiones = 0\n",
    "\n",
    "for i in range (len(dicc_emisiones['co2'])): #Recorre un rango de índices que van desde 0 hasta la longitud de la lista de emisiones de CO2\n",
    "    if dicc_emisiones['region'][i] == region and dicc_emisiones['anio'][i] == anio:  #Verifica si la región y el año en la posición actual (índice i) coinciden con los valores especificados en las variables region y anio\n",
    "        if dicc_emisiones['co2'][i] is not None and isinstance(dicc_emisiones['co2'][i], (int, float)):  #Verifica si el valor en dicc_emisiones['co2'][i] no es None y si es un valor de tipo int o float utilizando is not None y isinstance()\n",
    "            emisiones += dicc_emisiones['co2'][i] #Se suma el valor de CO2 en dicc_emisiones['co2'][i] a la variable emisiones.\n",
    "\n",
    "print(\"Total de emisiones de CO2 para América Latina y Caribe en el año 2010:\", emisiones)\n",
    "\n",
    "            "
   ]
  }
 ],
 "metadata": {
  "interpreter": {
   "hash": "c85384e4cb51c8b72350f3a8712cc8351fdc3955e32a27f9b60c6242ab125f01"
  },
  "kernelspec": {
   "display_name": "Python 3.9.7 ('henry')",
   "language": "python",
   "name": "python3"
  },
  "language_info": {
   "codemirror_mode": {
    "name": "ipython",
    "version": 3
   },
   "file_extension": ".py",
   "mimetype": "text/x-python",
   "name": "python",
   "nbconvert_exporter": "python",
   "pygments_lexer": "ipython3",
   "version": "3.10.9"
  },
  "orig_nbformat": 4
 },
 "nbformat": 4,
 "nbformat_minor": 2
}
