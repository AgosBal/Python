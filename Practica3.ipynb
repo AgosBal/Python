{
 "cells": [
  {
   "cell_type": "markdown",
   "metadata": {},
   "source": [
    "# Práctica 3"
   ]
  },
  {
   "cell_type": "markdown",
   "metadata": {},
   "source": [
    "Eliminar o sustituir una cadena o subcadena con .replace()\n",
    "\n",
    "Caso: transcripción ficticia de una sala de chat que requiere limpieza de datos personales y palabras inapropiadas mediante el método .replace() y la función re.sub(). "
   ]
  },
  {
   "cell_type": "markdown",
   "metadata": {},
   "source": [
    "**1. Identificar los componentes del texto:**\n",
    "\n",
    "[support_tom] 2022-08-24T10:02:23+00:00 : What can I help you with?\n",
    "[johndoe] 2022-08-24T10:03:15+00:00 : I CAN'T CONNECT TO MY BLASTED ACCOUNT\n",
    "[support_tom] 2022-08-24T10:03:30+00:00 : Are you sure it's not your caps lock?\n",
    "[johndoe] 2022-08-24T10:04:03+00:00 : Blast! You're right!\n",
    "\n",
    "* Identificador de usuario\n",
    "* Fecha y hora ISO \n",
    "* Mensajes, en su mayoría con malas palabras"
   ]
  },
  {
   "cell_type": "markdown",
   "metadata": {},
   "source": [
    "**2. Utilizar el método .replace()**\n",
    "* Toma al menos 2 argumentos:\n",
    "- La cadena original\n",
    "- La cadena nueva\n",
    "- Cantidad de reemplazos que se quieren hacer (opcional)\n",
    "\n",
    "Ej: \n",
    ">>> \"Fake Python\".replace (\"Fake\",\"Real\")\n",
    "\n",
    ">>> 'Real Python'\n",
    "\n",
    "Instrucciones:\n",
    "\n",
    ">>> name = \"Fake Python\"\n",
    ">>> name.replace(\"Fake\",\"Real\")\n",
    ">>>'Real Python'\n",
    "\n",
    ">>> name\n",
    ">>> 'Fake Python'\n",
    "\n",
    "##### El valor original de la variable no cambia\n",
    "\n",
    ">>> name = name.replace(\"Fake\",\"Real\")\n",
    "\n",
    ">>>'Real Python'\n",
    "\n",
    ">>> name\n",
    "\n",
    ">>> 'Real Python'"
   ]
  },
  {
   "cell_type": "markdown",
   "metadata": {},
   "source": [
    "3. Reemplazar las palabras en el diálogo"
   ]
  },
  {
   "cell_type": "code",
   "execution_count": 5,
   "metadata": {},
   "outputs": [
    {
     "data": {
      "text/plain": [
       "\"        [support_tom] 2022-08-24T10:02:23+00:00 : What can I help you with?\\n        [johndoe] 2022-08-24T10:03:15+00:00 : I CAN'T CONNECT TO MY 😤 ACCOUNT\\n        [support_tom] 2022-08-24T10:03:30+00:00 : Are you sure it's not your caps lock?\\n        [johndoe] 2022-08-24T10:04:03+00:00 : 😤! You're right! \""
      ]
     },
     "execution_count": 5,
     "metadata": {},
     "output_type": "execute_result"
    }
   ],
   "source": [
    "dialogo = \"\"\"\\\n",
    "        [support_tom] 2022-08-24T10:02:23+00:00 : What can I help you with?\n",
    "        [johndoe] 2022-08-24T10:03:15+00:00 : I CAN'T CONNECT TO MY BLASTED ACCOUNT\n",
    "        [support_tom] 2022-08-24T10:03:30+00:00 : Are you sure it's not your caps lock?\n",
    "        [johndoe] 2022-08-24T10:04:03+00:00 : Blast! You're right! \"\"\"\n",
    "\n",
    "dialogo.replace(\"BLASTED\",\"😤\").replace(\"Blast\",\"😤\") #Se puede llamar varias veces el método replace\n",
    "\n",
    "#Probablemente no sea la mejor manera o la más eficiente"
   ]
  },
  {
   "cell_type": "markdown",
   "metadata": {},
   "source": [
    "4. Aplicar varias reglas de .replace()\n",
    "* Acortar o eliminar las fechas y horas\n",
    "* Reemplazar los nombres de los usuarios en la conversación con _Agent_ y _Client_"
   ]
  },
  {
   "cell_type": "code",
   "execution_count": 7,
   "metadata": {},
   "outputs": [
    {
     "name": "stdout",
     "output_type": "stream",
     "text": [
      "        Agent  10:02:23 : What can I help you with?\n",
      "        Client 10:03:15 : I CAN'T CONNECT TO MY 😤 ACCOUNT\n",
      "        Agent  10:03:30 : Are you sure it's not your caps lock?\n",
      "        Client 10:04:03 : 😤! You're right! \n"
     ]
    }
   ],
   "source": [
    "#Una solución puede ser crear una tupla con los reemplazos\n",
    "\n",
    "reemplazos = [\n",
    "    (\"BLASTED\", \"😤\"),\n",
    "    (\"Blast\", \"😤\"),\n",
    "    (\"2022-08-24T\",\"\"),\n",
    "    (\"+00:00\",\"\"),\n",
    "    (\"[support_tom]\", \"Agent \"),\n",
    "    (\"[johndoe]\",\"Client\"),\n",
    "]\n",
    "\n",
    "dialogo = \"\"\"\\\n",
    "        [support_tom] 2022-08-24T10:02:23+00:00 : What can I help you with?\n",
    "        [johndoe] 2022-08-24T10:03:15+00:00 : I CAN'T CONNECT TO MY BLASTED ACCOUNT\n",
    "        [support_tom] 2022-08-24T10:03:30+00:00 : Are you sure it's not your caps lock?\n",
    "        [johndoe] 2022-08-24T10:04:03+00:00 : Blast! You're right! \"\"\"\n",
    "        \n",
    "for old, new in reemplazos:\n",
    "    dialogo = dialogo.replace(old, new)\n",
    "\n",
    "print(dialogo)"
   ]
  },
  {
   "cell_type": "code",
   "execution_count": 10,
   "metadata": {},
   "outputs": [
    {
     "name": "stdout",
     "output_type": "stream",
     "text": [
      "        Agent  10:02:23 : What can I help you with?\n",
      "        Client 10:03:15 : I CAN'T CONNECT TO MY 😤 ACCOUNT\n",
      "        Agent  10:03:30 : Are you sure it's not your caps lock?\n",
      "        Client 10:04:03 : 😤! You're right! \n"
     ]
    }
   ],
   "source": [
    "#Otra forma puede ser\n",
    "\n",
    "for reemplazo in reemplazos:\n",
    "    dialogo_nuevo = dialogo.replace(reemplazo[0],reemplazo[1])\n",
    "\n",
    "print (dialogo_nuevo)"
   ]
  },
  {
   "cell_type": "markdown",
   "metadata": {},
   "source": [
    "5. ¿Qué hacer en caso que hayan más variantes de la mala palabra? por ejemplo: BLast\n",
    "* Considerar que sólo reemplaza la fecha detallada, las demás no\n",
    "* Eliminar todas las fechas implicaría colocar todas las posibilidades en las opciones de reemplazo\n",
    "* El espacio después de la palabra \"Agent\" para alinear las columnas funciona pero no es general\n",
    "\n",
    "* Se utiliza re.sub() para utilizar reglas complejas\n",
    "* Utilizar caracteres comodín cómo \"*\"\n",
    "* Utilizar expresiones regulares o **regex**, módulo *re*\n"
   ]
  },
  {
   "cell_type": "code",
   "execution_count": 17,
   "metadata": {},
   "outputs": [
    {
     "name": "stdout",
     "output_type": "stream",
     "text": [
      "\n",
      "Agent   : What can I help you with?\n",
      "Client  : I CAN'T CONNECT TO MY 😤 ACCOUNT\n",
      "Agent   : Are you sure it's not your caps lock?\n",
      "Client  : 😤! You're right!\n",
      "\n"
     ]
    }
   ],
   "source": [
    "import re\n",
    "\n",
    "reemplazos_regex = [\n",
    "    (r\"blast\\w*\", \"😤\"),  #Utilizo caracter especial \\w que coincide con caracteres alfanumericos y guiones bajo. Con * genera coincidencias de 0 o más caracteres\n",
    "    (r\"[-T:+\\d]{25}\",\"\"), #Utilizo clases de caracteres para coincidir sólo algunos caracteres colocándolos entre corchetes, serán 25 caracteres en cualquier orden o combinación. \\d coincide cualquier caracter de dígito\n",
    "    (r\"\\[support\\w*\\]\", \"Agent \"), #Agrego \\ antes del [ de lo contrario la palabra sería interpretada cómo un conjunto de caracteres\n",
    "    (r\"\\[johndoe\\]\",\"Client\"),\n",
    "]\n",
    "\n",
    "dialogo = \"\"\"\n",
    "[support_tom] 2022-08-24T10:02:23+00:00 : What can I help you with?\n",
    "[johndoe] 2022-08-24T10:03:15+00:00 : I CAN'T CONNECT TO MY BLASTED ACCOUNT\n",
    "[support_tom] 2022-08-24T10:03:30+00:00 : Are you sure it's not your caps lock?\n",
    "[johndoe] 2022-08-24T10:04:03+00:00 : Blast! You're right!\n",
    "\"\"\"\n",
    "\n",
    "for old, new in reemplazos_regex:\n",
    "    dialogo = re.sub(old, new, dialogo, flags=re.IGNORECASE) #El argumento re.IGNORECASE no distingue de mayúsculas y minúsculas.\n",
    "    \n",
    "print(dialogo)"
   ]
  },
  {
   "cell_type": "markdown",
   "metadata": {},
   "source": [
    "6. Cómo _regex_ puede necesitar que se escriban muchos patrones, se puede utilizar la función **callback** con **re.sub()**"
   ]
  },
  {
   "cell_type": "code",
   "execution_count": 18,
   "metadata": {},
   "outputs": [
    {
     "name": "stdout",
     "output_type": "stream",
     "text": [
      "<re.Match object; span=(15, 40), match='2022-08-24T10:02:23+00:00'>\n",
      "<re.Match object; span=(79, 104), match='2022-08-24T10:03:15+00:00'>\n",
      "<re.Match object; span=(159, 184), match='2022-08-24T10:03:30+00:00'>\n",
      "<re.Match object; span=(235, 260), match='2022-08-24T10:04:03+00:00'>\n"
     ]
    },
    {
     "data": {
      "text/plain": [
       "\"\\n[support_tom]  : What can I help you with?\\n[johndoe]  : I CAN'T CONNECT TO MY BLASTED ACCOUNT\\n[support_tom]  : Are you sure it's not your caps lock?\\n[johndoe]  : Blast! You're right!\\n\""
      ]
     },
     "execution_count": 18,
     "metadata": {},
     "output_type": "execute_result"
    }
   ],
   "source": [
    "import re\n",
    "\n",
    "dialogo = \"\"\"\n",
    "[support_tom] 2022-08-24T10:02:23+00:00 : What can I help you with?\n",
    "[johndoe] 2022-08-24T10:03:15+00:00 : I CAN'T CONNECT TO MY BLASTED ACCOUNT\n",
    "[support_tom] 2022-08-24T10:03:30+00:00 : Are you sure it's not your caps lock?\n",
    "[johndoe] 2022-08-24T10:04:03+00:00 : Blast! You're right!\n",
    "\"\"\"\n",
    "\n",
    "def limpiar_mensaje(coincidencia):\n",
    "    print(coincidencia)\n",
    "\n",
    "re.sub(r\"[-T:+\\d]{25}\", limpiar_mensaje, dialogo)"
   ]
  },
  {
   "cell_type": "code",
   "execution_count": 22,
   "metadata": {},
   "outputs": [
    {
     "name": "stdout",
     "output_type": "stream",
     "text": [
      "\n",
      "Agent  : What can I help you with?\n",
      "Client : I CAN'T CONNECT TO MY 😤 ACCOUNT\n",
      "Agent  : Are you sure it's not your caps lock?\n",
      "Client : 😤! You're right!\n",
      "\n"
     ]
    }
   ],
   "source": [
    "import re\n",
    "\n",
    "patron_entrada = (\n",
    "    r\"\\[(.+)\\] \"  #Busca coincidencias de cualquier cadena de caracteres dentro de los corchetes.\n",
    "    r\"[-T:+\\d]{25} \"  #Coincide con la marca de tiempo\n",
    "    r\": \"  #Coincide con los dos puntos literalmente. Porque se usan cómo separador entre los metadatos del mensaje y el propio mensaje\n",
    "    r\"(.+)\"  #Coincide con cualquier scuencia de caracteres hasta el final de la línea\n",
    ")\n",
    "\n",
    "malas_palabras = [\"blast\", \"dash\", \"beezlebub\"]\n",
    "clientes = [\"johndoe\", \"janedoe\"]\n",
    "\n",
    "def censor_malas_palabras(mensaje):\n",
    "    for palabra in malas_palabras:\n",
    "        mensaje = re.sub(rf\"{palabra}\\w*\", \"😤\", mensaje, flags=re.IGNORECASE)\n",
    "    return mensaje\n",
    "\n",
    "def censor_usuario(usuario):\n",
    "    if usuario.startswith(\"support\"):\n",
    "        return \"Agent\"\n",
    "    elif usuario in clientes:\n",
    "        return \"Client\"\n",
    "    else:\n",
    "        raise ValueError(f\"unknown client: '{usuario}'\")\n",
    "\n",
    "def limpiar_mensaje(coincidencia):\n",
    "    usuario, mensaje = coincidencia.groups()\n",
    "    return f\"{censor_usuario(usuario):<6} : {censor_malas_palabras(mensaje)}\"\n",
    "#Devuelve usuario y mensaje cómo tupla de cadenas\n",
    "\n",
    "dialogo = \"\"\"\n",
    "[support_tom] 2022-08-24T10:02:23+00:00 : What can I help you with?\n",
    "[johndoe] 2022-08-24T10:03:15+00:00 : I CAN'T CONNECT TO MY BLASTED ACCOUNT\n",
    "[support_tom] 2022-08-24T10:03:30+00:00 : Are you sure it's not your caps lock?\n",
    "[johndoe] 2022-08-24T10:04:03+00:00 : Blast! You're right!\n",
    "\"\"\"\n",
    "\n",
    "print(re.sub(patron_entrada, limpiar_mensaje, dialogo))"
   ]
  }
 ],
 "metadata": {
  "interpreter": {
   "hash": "c85384e4cb51c8b72350f3a8712cc8351fdc3955e32a27f9b60c6242ab125f01"
  },
  "kernelspec": {
   "display_name": "Python 3.9.7 ('henry')",
   "language": "python",
   "name": "python3"
  },
  "language_info": {
   "codemirror_mode": {
    "name": "ipython",
    "version": 3
   },
   "file_extension": ".py",
   "mimetype": "text/x-python",
   "name": "python",
   "nbconvert_exporter": "python",
   "pygments_lexer": "ipython3",
   "version": "3.10.9"
  },
  "orig_nbformat": 4
 },
 "nbformat": 4,
 "nbformat_minor": 2
}
